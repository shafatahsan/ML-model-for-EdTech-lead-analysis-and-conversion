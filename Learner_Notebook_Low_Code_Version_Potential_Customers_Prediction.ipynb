{
 "cells": [
  {
   "cell_type": "markdown",
   "id": "dense-medicaid",
   "metadata": {
    "id": "dense-medicaid"
   },
   "source": [
    "# ExtraaLearn Project\n",
    "\n",
    "## Context\n",
    "\n",
    "The EdTech industry has been surging in the past decade immensely, and according to a forecast, the Online Education market would be worth $286.62bn by 2023 with a compound annual growth rate (CAGR) of 10.26% from 2018 to 2023. The modern era of online education has enforced a lot in its growth and expansion beyond any limit. Due to having many dominant features like ease of information sharing, personalized learning experience, transparency of assessment, etc, it is now preferable to traditional education. \n",
    "\n",
    "In the present scenario due to the Covid-19, the online education sector has witnessed rapid growth and is attracting a lot of new customers. Due to this rapid growth, many new companies have emerged in this industry. With the availability and ease of use of digital marketing resources, companies can reach out to a wider audience with their offerings. The customers who show interest in these offerings are termed as leads. There are various sources of obtaining leads for Edtech companies, like\n",
    "\n",
    "* The customer interacts with the marketing front on social media or other online platforms. \n",
    "* The customer browses the website/app and downloads the brochure\n",
    "* The customer connects through emails for more information.\n",
    "\n",
    "The company then nurtures these leads and tries to convert them to paid customers. For this, the representative from the organization connects with the lead on call or through email to share further details.\n",
    "\n",
    "## Objective\n",
    "\n",
    "ExtraaLearn is an initial stage startup that offers programs on cutting-edge technologies to students and professionals to help them upskill/reskill. With a large number of leads being generated regularly, one of the issues faced by ExtraaLearn is to identify which of the leads are more likely to convert so that they can allocate resources accordingly. You, as a data scientist at ExtraaLearn, have been provided the leads data to:\n",
    "* Analyze and build an ML model to help identify which leads are more likely to convert to paid customers, \n",
    "* Find the factors driving the lead conversion process\n",
    "* Create a profile of the leads which are likely to convert\n",
    "\n",
    "\n",
    "## Data Description\n",
    "\n",
    "The data contains the different attributes of leads and their interaction details with ExtraaLearn. The detailed data dictionary is given below.\n",
    "\n",
    "\n",
    "**Data Dictionary**\n",
    "* ID: ID of the lead\n",
    "* age: Age of the lead\n",
    "* current_occupation: Current occupation of the lead. Values include 'Professional','Unemployed',and 'Student'\n",
    "* first_interaction: How did the lead first interact with ExtraaLearn. Values include 'Website', 'Mobile App'\n",
    "* profile_completed: What percentage of the profile has been filled by the lead on the website/mobile app. Values include Low - (0-50%), Medium - (50-75%), High (75-100%)\n",
    "* website_visits: How many times has a lead visited the website\n",
    "* time_spent_on_website: Total time spent on the website\n",
    "* page_views_per_visit: Average number of pages on the website viewed during the visits.\n",
    "* last_activity: Last interaction between the lead and ExtraaLearn. \n",
    "    * Email Activity: Seeking for details about the program through email, Representative shared information with a lead like a brochure of program, etc \n",
    "    * Phone Activity: Had a Phone Conversation with a representative, Had conversation over SMS with a representative, etc\n",
    "    * Website Activity: Interacted on live chat with a representative, Updated profile on the website, etc\n",
    "\n",
    "* print_media_type1: Flag indicating whether the lead had seen the ad of ExtraaLearn in the Newspaper.\n",
    "* print_media_type2: Flag indicating whether the lead had seen the ad of ExtraaLearn in the Magazine.\n",
    "* digital_media: Flag indicating whether the lead had seen the ad of ExtraaLearn on the digital platforms.\n",
    "* educational_channels: Flag indicating whether the lead had heard about ExtraaLearn in the education channels like online forums, discussion threads, educational websites, etc.\n",
    "* referral: Flag indicating whether the lead had heard about ExtraaLearn through reference.\n",
    "* status: Flag indicating whether the lead was converted to a paid customer or not."
   ]
  },
  {
   "cell_type": "markdown",
   "id": "d0ef2b3c",
   "metadata": {
    "id": "d0ef2b3c"
   },
   "source": [
    "### **Please read the instructions carefully before starting the project.** \n",
    "This is a commented Jupyter IPython Notebook file in which all the instructions and tasks to be performed are mentioned. \n",
    "* Blanks '_______' are provided in the notebook that \n",
    "needs to be filled with an appropriate code to get the correct result. With every '_______' blank, there is a comment that briefly describes what needs to be filled in the blank space. \n",
    "* Identify the task to be performed correctly, and only then proceed to write the required code.\n",
    "* Fill the code wherever asked by the commented lines like \"# write your code here\" or \"# complete the code\". Running incomplete code may throw error.\n",
    "* Please run the codes in a sequential manner from the beginning to avoid any unnecessary errors.\n",
    "* Add the results/observations (wherever mentioned) derived from the analysis in the presentation and submit the same."
   ]
  },
  {
   "cell_type": "code",
   "execution_count": null,
   "id": "proper-calgary",
   "metadata": {
    "id": "proper-calgary"
   },
   "outputs": [],
   "source": [
    "import warnings\n",
    "\n",
    "warnings.filterwarnings(\"ignore\")\n",
    "from statsmodels.tools.sm_exceptions import ConvergenceWarning\n",
    "\n",
    "warnings.simplefilter(\"ignore\", ConvergenceWarning)\n",
    "\n",
    "# Libraries to help with reading and manipulating data\n",
    "\n",
    "import pandas as pd\n",
    "import numpy as np\n",
    "\n",
    "# Library to split data\n",
    "from sklearn.model_selection import train_test_split\n",
    "\n",
    "# libaries to help with data visualization\n",
    "import matplotlib.pyplot as plt\n",
    "import seaborn as sns\n",
    "\n",
    "# Removes the limit for the number of displayed columns\n",
    "pd.set_option(\"display.max_columns\", None)\n",
    "# Sets the limit for the number of displayed rows\n",
    "pd.set_option(\"display.max_rows\", 200)\n",
    "# setting the precision of floating numbers to 5 decimal points\n",
    "pd.set_option(\"display.float_format\", lambda x: \"%.5f\" % x)\n",
    "\n",
    "# To build model for prediction\n",
    "import statsmodels.stats.api as sms\n",
    "from statsmodels.stats.outliers_influence import variance_inflation_factor\n",
    "import statsmodels.api as sm\n",
    "from statsmodels.tools.tools import add_constant\n",
    "from sklearn.linear_model import LogisticRegression\n",
    "from sklearn.tree import DecisionTreeClassifier\n",
    "from sklearn import tree\n",
    "from sklearn.ensemble import RandomForestClassifier\n",
    "\n",
    "# To tune different models\n",
    "from sklearn.model_selection import GridSearchCV\n",
    "\n",
    "\n",
    "# To get diferent metric scores\n",
    "import sklearn.metrics as metrics\n",
    "from sklearn.metrics import (\n",
    "    f1_score,\n",
    "    accuracy_score,\n",
    "    recall_score,\n",
    "    precision_score,\n",
    "    confusion_matrix,\n",
    "    classification_report,\n",
    "    roc_auc_score,\n",
    "    precision_recall_curve,\n",
    "    roc_curve,\n",
    "    make_scorer,\n",
    ")"
   ]
  },
  {
   "cell_type": "markdown",
   "id": "fantastic-rebel",
   "metadata": {
    "id": "fantastic-rebel"
   },
   "source": [
    "## Import Dataset"
   ]
  },
  {
   "cell_type": "code",
   "execution_count": null,
   "id": "precious-leonard",
   "metadata": {
    "id": "precious-leonard"
   },
   "outputs": [],
   "source": [
    "learn = pd.read_csv(\"________\") ##  Complete the code to read the data"
   ]
  },
  {
   "cell_type": "code",
   "execution_count": null,
   "id": "geographic-gender",
   "metadata": {
    "id": "geographic-gender"
   },
   "outputs": [],
   "source": [
    "# copying data to another variable to avoid any changes to original data\n",
    "data = learn.copy()"
   ]
  },
  {
   "cell_type": "markdown",
   "id": "convinced-blackberry",
   "metadata": {
    "id": "convinced-blackberry"
   },
   "source": [
    "### View the first and last 5 rows of the dataset"
   ]
  },
  {
   "cell_type": "code",
   "execution_count": null,
   "id": "tested-adjustment",
   "metadata": {
    "colab": {
     "base_uri": "https://localhost:8080/",
     "height": 270
    },
    "id": "tested-adjustment",
    "outputId": "68bc4efc-3bf7-4cbf-a608-bfd2afbb8363"
   },
   "outputs": [],
   "source": [
    "data._______ ##  Complete the code to view top 5 rows of the data"
   ]
  },
  {
   "cell_type": "code",
   "execution_count": null,
   "id": "demonstrated-charger",
   "metadata": {
    "colab": {
     "base_uri": "https://localhost:8080/",
     "height": 270
    },
    "id": "demonstrated-charger",
    "outputId": "c500664e-2e36-4520-8c70-e72c126f0070"
   },
   "outputs": [],
   "source": [
    "data._______ ##  Complete the code to view last 5 rows of the data  "
   ]
  },
  {
   "cell_type": "markdown",
   "id": "prepared-clause",
   "metadata": {
    "id": "prepared-clause"
   },
   "source": [
    "### Understand the shape of the dataset"
   ]
  },
  {
   "cell_type": "code",
   "execution_count": null,
   "id": "likely-scene",
   "metadata": {
    "colab": {
     "base_uri": "https://localhost:8080/"
    },
    "id": "likely-scene",
    "outputId": "3e44e0ca-b5b5-48bc-a672-c1d524c62a07"
   },
   "outputs": [],
   "source": [
    "data.______ ## Complete the code to get the shape of data"
   ]
  },
  {
   "cell_type": "markdown",
   "id": "creative-warner",
   "metadata": {
    "id": "creative-warner"
   },
   "source": [
    "### Check the data types of the columns for the dataset"
   ]
  },
  {
   "cell_type": "code",
   "execution_count": null,
   "id": "expanded-technique",
   "metadata": {
    "colab": {
     "base_uri": "https://localhost:8080/"
    },
    "id": "expanded-technique",
    "outputId": "36fdc2ed-58f6-4905-dbf2-4022fb6e474c"
   },
   "outputs": [],
   "source": [
    "data._______"
   ]
  },
  {
   "cell_type": "code",
   "execution_count": null,
   "id": "greenhouse-vertical",
   "metadata": {
    "colab": {
     "base_uri": "https://localhost:8080/"
    },
    "id": "greenhouse-vertical",
    "outputId": "790faa92-d54c-4261-fc80-1da439df3d22"
   },
   "outputs": [],
   "source": [
    "# checking for duplicate values\n",
    "data.______ ## Complete the code to check duplicate entries in the data"
   ]
  },
  {
   "cell_type": "markdown",
   "id": "realistic-mortgage",
   "metadata": {
    "id": "realistic-mortgage"
   },
   "source": [
    "## Exploratory Data Analysis"
   ]
  },
  {
   "cell_type": "markdown",
   "id": "seeing-newman",
   "metadata": {
    "id": "seeing-newman"
   },
   "source": [
    "**Let's check the statistical summary of the data.**"
   ]
  },
  {
   "cell_type": "code",
   "execution_count": null,
   "id": "backed-solution",
   "metadata": {
    "colab": {
     "base_uri": "https://localhost:8080/",
     "height": 206
    },
    "id": "backed-solution",
    "outputId": "890c830c-8954-48ba-e594-084c43b51615"
   },
   "outputs": [],
   "source": [
    "data.______ ##  Complete the code to print the statistical summary of the data"
   ]
  },
  {
   "cell_type": "code",
   "execution_count": null,
   "id": "cultural-plaza",
   "metadata": {
    "colab": {
     "base_uri": "https://localhost:8080/"
    },
    "id": "cultural-plaza",
    "outputId": "5cac5f1c-2398-4c03-fa7c-784d46d93464"
   },
   "outputs": [],
   "source": [
    "# Making a list of all catrgorical variables\n",
    "cat_col = list(data.select_dtypes(\"object\").columns)\n",
    "\n",
    "# Printing number of count of each unique value in each column\n",
    "for column in cat_col:\n",
    "    print(data[column].value_counts())\n",
    "    print(\"-\" * 50)"
   ]
  },
  {
   "cell_type": "code",
   "execution_count": null,
   "id": "victorian-chuck",
   "metadata": {
    "colab": {
     "base_uri": "https://localhost:8080/"
    },
    "id": "victorian-chuck",
    "outputId": "2f5025ce-01a0-4f00-c240-f3a163bae7ea"
   },
   "outputs": [],
   "source": [
    "# checking the number of unique values\n",
    "data[\"ID\"].______ # Complete the code to check the number of unique values"
   ]
  },
  {
   "cell_type": "code",
   "execution_count": null,
   "id": "comprehensive-heavy",
   "metadata": {
    "id": "comprehensive-heavy"
   },
   "outputs": [],
   "source": [
    "data._____([\"ID\"], axis = 1, inplace = True)# Complete the code to drop \"ID\" column from data"
   ]
  },
  {
   "cell_type": "markdown",
   "id": "arbitrary-intelligence",
   "metadata": {
    "id": "arbitrary-intelligence"
   },
   "source": [
    "### Univariate Analysis"
   ]
  },
  {
   "cell_type": "code",
   "execution_count": null,
   "id": "several-cheese",
   "metadata": {
    "id": "several-cheese"
   },
   "outputs": [],
   "source": [
    "# function to plot a boxplot and a histogram along the same scale.\n",
    "\n",
    "\n",
    "def histogram_boxplot(data, feature, figsize=(12, 7), kde=False, bins=None):\n",
    "    \"\"\"\n",
    "    Boxplot and histogram combined\n",
    "\n",
    "    data: dataframe\n",
    "    feature: dataframe column\n",
    "    figsize: size of figure (default (12,7))\n",
    "    kde: whether to the show density curve (default False)\n",
    "    bins: number of bins for histogram (default None)\n",
    "    \"\"\"\n",
    "    f2, (ax_box2, ax_hist2) = plt.subplots(\n",
    "        nrows=2,  # Number of rows of the subplot grid= 2\n",
    "        sharex=True,  # x-axis will be shared among all subplots\n",
    "        gridspec_kw={\"height_ratios\": (0.25, 0.75)},\n",
    "        figsize=figsize,\n",
    "    )  # creating the 2 subplots\n",
    "    sns.boxplot(\n",
    "        data=data, x=feature, ax=ax_box2, showmeans=True, color=\"violet\"\n",
    "    )  # boxplot will be created and a star will indicate the mean value of the column\n",
    "    sns.histplot(\n",
    "        data=data, x=feature, kde=kde, ax=ax_hist2, bins=bins, palette=\"winter\"\n",
    "    ) if bins else sns.histplot(\n",
    "        data=data, x=feature, kde=kde, ax=ax_hist2\n",
    "    )  # For histogram\n",
    "    ax_hist2.axvline(\n",
    "        data[feature].mean(), color=\"green\", linestyle=\"--\"\n",
    "    )  # Add mean to the histogram\n",
    "    ax_hist2.axvline(\n",
    "        data[feature].median(), color=\"black\", linestyle=\"-\"\n",
    "    )  # Add median to the histogram"
   ]
  },
  {
   "cell_type": "markdown",
   "id": "western-elevation",
   "metadata": {
    "id": "western-elevation"
   },
   "source": [
    "### Observations on age"
   ]
  },
  {
   "cell_type": "code",
   "execution_count": null,
   "id": "italian-imagination",
   "metadata": {
    "colab": {
     "base_uri": "https://localhost:8080/",
     "height": 582
    },
    "id": "italian-imagination",
    "outputId": "e2fe70f6-ea26-4190-87f2-496eea4acbd7"
   },
   "outputs": [],
   "source": [
    "histogram_boxplot(data, \"age\") "
   ]
  },
  {
   "cell_type": "markdown",
   "id": "intimate-hearing",
   "metadata": {
    "id": "intimate-hearing"
   },
   "source": [
    "### Observations on website_visits"
   ]
  },
  {
   "cell_type": "code",
   "execution_count": null,
   "id": "liable-guess",
   "metadata": {
    "colab": {
     "base_uri": "https://localhost:8080/",
     "height": 577
    },
    "id": "liable-guess",
    "outputId": "b9158a89-829d-4c5a-b6a7-3d4721276dd4"
   },
   "outputs": [],
   "source": [
    "histogram_boxplot(________) # Complete the code to plot a histogram_boxplot for website_visits"
   ]
  },
  {
   "cell_type": "code",
   "execution_count": null,
   "id": "southern-organic",
   "metadata": {
    "colab": {
     "base_uri": "https://localhost:8080/"
    },
    "id": "southern-organic",
    "outputId": "d05dd0a4-6bc2-40e5-f5c9-1ccb70b0ffbd"
   },
   "outputs": [],
   "source": [
    "# To check how many leads have not visited web-site\n",
    "data[data[\"website_visits\"] == 0].shape"
   ]
  },
  {
   "cell_type": "markdown",
   "id": "studied-arrangement",
   "metadata": {
    "id": "studied-arrangement"
   },
   "source": [
    "### Observations on number of time_spent_on_website"
   ]
  },
  {
   "cell_type": "code",
   "execution_count": null,
   "id": "molecular-opposition",
   "metadata": {
    "colab": {
     "base_uri": "https://localhost:8080/",
     "height": 577
    },
    "id": "molecular-opposition",
    "outputId": "093e33bd-8ae5-4c86-961a-84cce32226b1"
   },
   "outputs": [],
   "source": [
    "histogram_boxplot(_______) # Complete the code to plot a histogram_boxplot for time_spent_on_website"
   ]
  },
  {
   "cell_type": "markdown",
   "id": "rough-contributor",
   "metadata": {
    "id": "rough-contributor"
   },
   "source": [
    "### Observations on number of page_views_per_visit"
   ]
  },
  {
   "cell_type": "code",
   "execution_count": null,
   "id": "laughing-bridge",
   "metadata": {
    "colab": {
     "base_uri": "https://localhost:8080/",
     "height": 582
    },
    "id": "laughing-bridge",
    "outputId": "6dd84416-23ea-4c6b-c133-34d787346719"
   },
   "outputs": [],
   "source": [
    "histogram_boxplot(________) # Complete the code to plot a histogram_boxplot for page_views_per_visit"
   ]
  },
  {
   "cell_type": "code",
   "execution_count": null,
   "id": "attended-grounds",
   "metadata": {
    "id": "attended-grounds"
   },
   "outputs": [],
   "source": [
    "# function to create labeled barplots\n",
    "\n",
    "\n",
    "def labeled_barplot(data, feature, perc=False, n=None):\n",
    "    \"\"\"\n",
    "    Barplot with percentage at the top\n",
    "\n",
    "    data: dataframe\n",
    "    feature: dataframe column\n",
    "    perc: whether to display percentages instead of count (default is False)\n",
    "    n: displays the top n category levels (default is None, i.e., display all levels)\n",
    "    \"\"\"\n",
    "\n",
    "    total = len(data[feature])  # length of the column\n",
    "    count = data[feature].nunique()\n",
    "    if n is None:\n",
    "        plt.figure(figsize=(count + 1, 5))\n",
    "    else:\n",
    "        plt.figure(figsize=(n + 1, 5))\n",
    "\n",
    "    plt.xticks(rotation=90, fontsize=15)\n",
    "    ax = sns.countplot(\n",
    "        data=data,\n",
    "        x=feature,\n",
    "        palette=\"Paired\",\n",
    "        order=data[feature].value_counts().index[:n].sort_values(),\n",
    "    )\n",
    "\n",
    "    for p in ax.patches:\n",
    "        if perc == True:\n",
    "            label = \"{:.1f}%\".format(\n",
    "                100 * p.get_height() / total\n",
    "            )  # percentage of each class of the category\n",
    "        else:\n",
    "            label = p.get_height()  # count of each level of the category\n",
    "\n",
    "        x = p.get_x() + p.get_width() / 2  # width of the plot\n",
    "        y = p.get_height()  # height of the plot\n",
    "\n",
    "        ax.annotate(\n",
    "            label,\n",
    "            (x, y),\n",
    "            ha=\"center\",\n",
    "            va=\"center\",\n",
    "            size=12,\n",
    "            xytext=(0, 5),\n",
    "            textcoords=\"offset points\",\n",
    "        )  # annotate the percentage\n",
    "\n",
    "    plt.show()  # show the plot"
   ]
  },
  {
   "cell_type": "markdown",
   "id": "industrial-implementation",
   "metadata": {
    "id": "industrial-implementation"
   },
   "source": [
    "### Observations on current_occupation"
   ]
  },
  {
   "cell_type": "code",
   "execution_count": null,
   "id": "israeli-sympathy",
   "metadata": {
    "colab": {
     "base_uri": "https://localhost:8080/",
     "height": 583
    },
    "id": "israeli-sympathy",
    "outputId": "b193dc72-e9f5-44e8-d01b-d9d0a7e697a2"
   },
   "outputs": [],
   "source": [
    "labeled_barplot(data, \"current_occupation\", perc=True)"
   ]
  },
  {
   "cell_type": "markdown",
   "id": "celtic-florist",
   "metadata": {
    "id": "celtic-florist"
   },
   "source": [
    "### Observations on number of first_interaction"
   ]
  },
  {
   "cell_type": "code",
   "execution_count": null,
   "id": "finite-kingston",
   "metadata": {
    "colab": {
     "base_uri": "https://localhost:8080/",
     "height": 567
    },
    "id": "finite-kingston",
    "outputId": "03f11dea-24d5-4ff8-a7ff-2e81f5790946"
   },
   "outputs": [],
   "source": [
    "labeled_barplot(______) # Complete the code to plot labeled_barplot for first_interaction"
   ]
  },
  {
   "cell_type": "markdown",
   "id": "affiliated-accreditation",
   "metadata": {
    "id": "affiliated-accreditation"
   },
   "source": [
    "### Observations on profile_completed"
   ]
  },
  {
   "cell_type": "code",
   "execution_count": null,
   "id": "great-kitchen",
   "metadata": {
    "colab": {
     "base_uri": "https://localhost:8080/",
     "height": 534
    },
    "id": "great-kitchen",
    "outputId": "9554b72d-9490-4328-82a5-261d796568bc"
   },
   "outputs": [],
   "source": [
    "labeled_barplot(______) # Complete the code to plot labeled_barplot for profile_completed"
   ]
  },
  {
   "cell_type": "markdown",
   "id": "thermal-resource",
   "metadata": {
    "id": "thermal-resource"
   },
   "source": [
    "### Observations on last_activity"
   ]
  },
  {
   "cell_type": "code",
   "execution_count": null,
   "id": "bizarre-serbia",
   "metadata": {
    "colab": {
     "base_uri": "https://localhost:8080/",
     "height": 619
    },
    "id": "bizarre-serbia",
    "outputId": "50ec389b-aeae-48e0-8ff9-8a6e7df5c937",
    "scrolled": false
   },
   "outputs": [],
   "source": [
    "labeled_barplot(______) # Complete the code to plot labeled_barplot for last_activity"
   ]
  },
  {
   "cell_type": "markdown",
   "id": "greenhouse-regression",
   "metadata": {
    "id": "greenhouse-regression"
   },
   "source": [
    "### Observations on print_media_type1"
   ]
  },
  {
   "cell_type": "code",
   "execution_count": null,
   "id": "handy-talent",
   "metadata": {
    "colab": {
     "base_uri": "https://localhost:8080/",
     "height": 485
    },
    "id": "handy-talent",
    "outputId": "7a1c42f7-5467-46bd-a7bd-d7b2af193563"
   },
   "outputs": [],
   "source": [
    "labeled_barplot(______) # Complete the code to plot labeled_barplot for print_media_type1"
   ]
  },
  {
   "cell_type": "markdown",
   "id": "southeast-avenue",
   "metadata": {
    "id": "southeast-avenue"
   },
   "source": [
    "### Observations on print_media_type2"
   ]
  },
  {
   "cell_type": "code",
   "execution_count": null,
   "id": "retired-preliminary",
   "metadata": {
    "colab": {
     "base_uri": "https://localhost:8080/",
     "height": 485
    },
    "id": "retired-preliminary",
    "outputId": "4da0a6c1-7361-46a3-cf1c-7a4ab4b05a19"
   },
   "outputs": [],
   "source": [
    "labeled_barplot(______) # Complete the code to plot labeled_barplot for print_media_type2"
   ]
  },
  {
   "cell_type": "markdown",
   "id": "competitive-brass",
   "metadata": {
    "id": "competitive-brass"
   },
   "source": [
    "### Observations on digital_media"
   ]
  },
  {
   "cell_type": "code",
   "execution_count": null,
   "id": "cordless-assurance",
   "metadata": {
    "colab": {
     "base_uri": "https://localhost:8080/",
     "height": 485
    },
    "id": "cordless-assurance",
    "outputId": "b7f1fa85-0402-4bb8-a3f5-b9e89a1ea7a1"
   },
   "outputs": [],
   "source": [
    "labeled_barplot(______) # Complete the code to plot labeled_barplot for digital_media"
   ]
  },
  {
   "cell_type": "markdown",
   "id": "thick-coordination",
   "metadata": {
    "id": "thick-coordination"
   },
   "source": [
    "### Observations on educational_channels"
   ]
  },
  {
   "cell_type": "code",
   "execution_count": null,
   "id": "expensive-deposit",
   "metadata": {
    "colab": {
     "base_uri": "https://localhost:8080/",
     "height": 485
    },
    "id": "expensive-deposit",
    "outputId": "899d970a-c922-42cb-f2f2-adbcc5595530"
   },
   "outputs": [],
   "source": [
    "labeled_barplot(______) # Complete the code to plot labeled_barplot for educational_channels"
   ]
  },
  {
   "cell_type": "markdown",
   "id": "bulgarian-paint",
   "metadata": {
    "id": "bulgarian-paint"
   },
   "source": [
    "### Observations on referral"
   ]
  },
  {
   "cell_type": "code",
   "execution_count": null,
   "id": "ordinary-foster",
   "metadata": {
    "colab": {
     "base_uri": "https://localhost:8080/",
     "height": 485
    },
    "id": "ordinary-foster",
    "outputId": "07881624-16df-4e2f-b3e0-1c2153566487"
   },
   "outputs": [],
   "source": [
    "labeled_barplot(_______) # Complete the code to plot labeled_barplot for referral"
   ]
  },
  {
   "cell_type": "markdown",
   "id": "behavioral-portfolio",
   "metadata": {
    "id": "behavioral-portfolio"
   },
   "source": [
    "### Observations on status"
   ]
  },
  {
   "cell_type": "code",
   "execution_count": null,
   "id": "abroad-moldova",
   "metadata": {
    "colab": {
     "base_uri": "https://localhost:8080/",
     "height": 464
    },
    "id": "abroad-moldova",
    "outputId": "8a0245f6-aafc-48b5-f771-2036e3372b8d"
   },
   "outputs": [],
   "source": [
    "labeled_barplot(_______) # Complete the code to plot labeled_barplot for status"
   ]
  },
  {
   "cell_type": "markdown",
   "id": "4c9c9cbd",
   "metadata": {
    "id": "4c9c9cbd"
   },
   "source": [
    "**Observations from Univariate Analysis:_________**"
   ]
  },
  {
   "cell_type": "markdown",
   "id": "arranged-courtesy",
   "metadata": {
    "id": "arranged-courtesy"
   },
   "source": [
    "### Bivariate Analysis"
   ]
  },
  {
   "cell_type": "code",
   "execution_count": null,
   "id": "official-wyoming",
   "metadata": {
    "colab": {
     "base_uri": "https://localhost:8080/",
     "height": 671
    },
    "id": "official-wyoming",
    "outputId": "4fe50cc3-a9a8-4789-98a8-7eecb9c4f3a4"
   },
   "outputs": [],
   "source": [
    "cols_list = data.select_dtypes(include=np.number).columns.tolist()\n",
    "\n",
    "plt.figure(figsize=(12, 7))\n",
    "sns.heatmap(\n",
    "    data[cols_list].corr(), annot=True, vmin=-1, vmax=1, fmt=\".2f\", cmap=\"Spectral\"\n",
    ")\n",
    "plt.show()"
   ]
  },
  {
   "cell_type": "markdown",
   "id": "upper-glass",
   "metadata": {
    "id": "upper-glass"
   },
   "source": [
    "**Creating functions that will help us with further analysis.**"
   ]
  },
  {
   "cell_type": "code",
   "execution_count": null,
   "id": "sought-bunny",
   "metadata": {
    "id": "sought-bunny"
   },
   "outputs": [],
   "source": [
    "### function to plot distributions wrt target\n",
    "\n",
    "\n",
    "def distribution_plot_wrt_target(data, predictor, target):\n",
    "\n",
    "    fig, axs = plt.subplots(2, 2, figsize=(12, 10))\n",
    "\n",
    "    target_uniq = data[target].unique()\n",
    "\n",
    "    axs[0, 0].set_title(\"Distribution of target for target=\" + str(target_uniq[0]))\n",
    "    sns.histplot(\n",
    "        data=data[data[target] == target_uniq[0]],\n",
    "        x=predictor,\n",
    "        kde=True,\n",
    "        ax=axs[0, 0],\n",
    "        color=\"teal\",\n",
    "        stat=\"density\",\n",
    "    )\n",
    "\n",
    "    axs[0, 1].set_title(\"Distribution of target for target=\" + str(target_uniq[1]))\n",
    "    sns.histplot(\n",
    "        data=data[data[target] == target_uniq[1]],\n",
    "        x=predictor,\n",
    "        kde=True,\n",
    "        ax=axs[0, 1],\n",
    "        color=\"orange\",\n",
    "        stat=\"density\",\n",
    "    )\n",
    "\n",
    "    axs[1, 0].set_title(\"Boxplot w.r.t target\")\n",
    "    sns.boxplot(data=data, x=target, y=predictor, ax=axs[1, 0], palette=\"gist_rainbow\")\n",
    "\n",
    "    axs[1, 1].set_title(\"Boxplot (without outliers) w.r.t target\")\n",
    "    sns.boxplot(\n",
    "        data=data,\n",
    "        x=target,\n",
    "        y=predictor,\n",
    "        ax=axs[1, 1],\n",
    "        showfliers=False,\n",
    "        palette=\"gist_rainbow\",\n",
    "    )\n",
    "\n",
    "    plt.tight_layout()\n",
    "    plt.show()"
   ]
  },
  {
   "cell_type": "code",
   "execution_count": null,
   "id": "quick-progress",
   "metadata": {
    "id": "quick-progress"
   },
   "outputs": [],
   "source": [
    "def stacked_barplot(data, predictor, target):\n",
    "    \"\"\"\n",
    "    Print the category counts and plot a stacked bar chart\n",
    "\n",
    "    data: dataframe\n",
    "    predictor: independent variable\n",
    "    target: target variable\n",
    "    \"\"\"\n",
    "    count = data[predictor].nunique()\n",
    "    sorter = data[target].value_counts().index[-1]\n",
    "    tab1 = pd.crosstab(data[predictor], data[target], margins=True).sort_values(\n",
    "        by=sorter, ascending=False\n",
    "    )\n",
    "    print(tab1)\n",
    "    print(\"-\" * 120)\n",
    "    tab = pd.crosstab(data[predictor], data[target], normalize=\"index\").sort_values(\n",
    "        by=sorter, ascending=False\n",
    "    )\n",
    "    tab.plot(kind=\"bar\", stacked=True, figsize=(count + 5, 5))\n",
    "    plt.legend(\n",
    "        loc=\"lower left\", frameon=False,\n",
    "    )\n",
    "    plt.legend(loc=\"upper left\", bbox_to_anchor=(1, 1))\n",
    "    plt.show()"
   ]
  },
  {
   "cell_type": "markdown",
   "id": "abstract-laptop",
   "metadata": {
    "id": "abstract-laptop"
   },
   "source": [
    "**Leads will have different expectations from the outcome of the course and the current occupation may play a key role for them to take the program. Let's analyze it**"
   ]
  },
  {
   "cell_type": "code",
   "execution_count": null,
   "id": "understood-butterfly",
   "metadata": {
    "colab": {
     "base_uri": "https://localhost:8080/",
     "height": 661
    },
    "id": "understood-butterfly",
    "outputId": "f9902bef-78db-4f8c-9051-f44692f9dc69"
   },
   "outputs": [],
   "source": [
    "stacked_barplot(data, \"current_occupation\", \"status\")"
   ]
  },
  {
   "cell_type": "markdown",
   "id": "pharmaceutical-sequence",
   "metadata": {
    "id": "pharmaceutical-sequence"
   },
   "source": [
    "**Age can be a good factor to differentiate between such leads**"
   ]
  },
  {
   "cell_type": "code",
   "execution_count": null,
   "id": "laden-siemens",
   "metadata": {
    "colab": {
     "base_uri": "https://localhost:8080/",
     "height": 465
    },
    "id": "laden-siemens",
    "outputId": "36b2abab-64e7-439d-dab8-c1bffc34aecc"
   },
   "outputs": [],
   "source": [
    "plt.figure(figsize=(10, 5))\n",
    "sns.boxplot(data = data, x = data[\"current_occupation\"], y = data[\"age\"])\n",
    "plt.show()"
   ]
  },
  {
   "cell_type": "code",
   "execution_count": null,
   "id": "structured-aviation",
   "metadata": {
    "colab": {
     "base_uri": "https://localhost:8080/",
     "height": 175
    },
    "id": "structured-aviation",
    "outputId": "916d13b0-ed41-4e02-c0a5-749b6db83e89"
   },
   "outputs": [],
   "source": [
    "data.groupby([\"current_occupation\"])[\"age\"].describe()"
   ]
  },
  {
   "cell_type": "markdown",
   "id": "micro-costs",
   "metadata": {
    "id": "micro-costs"
   },
   "source": [
    "**The company's first interaction with leads should be compelling and persuasive. Let's see if the channels of the first interaction have an impact on the conversion of leads**"
   ]
  },
  {
   "cell_type": "code",
   "execution_count": null,
   "id": "confused-secretariat",
   "metadata": {
    "colab": {
     "base_uri": "https://localhost:8080/",
     "height": 632
    },
    "id": "confused-secretariat",
    "outputId": "f5b76a1e-c330-450f-97e9-5ec4cf111bbc"
   },
   "outputs": [],
   "source": [
    "stacked_barplot(________) # Complete the code to plot stacked_barplot for first_interaction and status"
   ]
  },
  {
   "cell_type": "code",
   "execution_count": null,
   "id": "verbal-columbus",
   "metadata": {
    "colab": {
     "base_uri": "https://localhost:8080/",
     "height": 802
    },
    "id": "verbal-columbus",
    "outputId": "61a5f44d-9159-4e06-dd6c-05c0ee9dd2ff"
   },
   "outputs": [],
   "source": [
    "distribution_plot_wrt_target(data, \"time_spent_on_website\", \"status\")"
   ]
  },
  {
   "cell_type": "code",
   "execution_count": null,
   "id": "extraordinary-necklace",
   "metadata": {
    "colab": {
     "base_uri": "https://localhost:8080/"
    },
    "id": "extraordinary-necklace",
    "outputId": "23f0023f-aaad-4f93-fc68-705551796e4f"
   },
   "outputs": [],
   "source": [
    "# checking the median value\n",
    "data.groupby([\"status\"])[\"time_spent_on_website\"].median()"
   ]
  },
  {
   "cell_type": "markdown",
   "id": "minus-airline",
   "metadata": {
    "id": "minus-airline"
   },
   "source": [
    "**Let's do a similar analysis for time spent on website and page views per visit.**"
   ]
  },
  {
   "cell_type": "code",
   "execution_count": null,
   "id": "dedicated-oxford",
   "metadata": {
    "colab": {
     "base_uri": "https://localhost:8080/",
     "height": 802
    },
    "id": "dedicated-oxford",
    "outputId": "941f5c25-c945-4997-a365-9e82131c5e96"
   },
   "outputs": [],
   "source": [
    "distribution_plot_wrt_target(___________) # Complete the code to plot distribution for website_visits and status"
   ]
  },
  {
   "cell_type": "code",
   "execution_count": null,
   "id": "complex-request",
   "metadata": {
    "colab": {
     "base_uri": "https://localhost:8080/",
     "height": 802
    },
    "id": "complex-request",
    "outputId": "ecc38908-0f2c-4a27-edd1-0021afe71a17"
   },
   "outputs": [],
   "source": [
    "distribution_plot_wrt_target(___________) # Complete the code to plot distribution for page_views_per_visit and status"
   ]
  },
  {
   "cell_type": "markdown",
   "id": "empirical-destination",
   "metadata": {
    "id": "empirical-destination"
   },
   "source": [
    "**People browsing the website or the mobile app are generally required to create a profile by sharing their personal details before they can access more information. Let's see if the profile completion level has an impact on lead status**"
   ]
  },
  {
   "cell_type": "code",
   "execution_count": null,
   "id": "piano-special",
   "metadata": {
    "colab": {
     "base_uri": "https://localhost:8080/",
     "height": 628
    },
    "id": "piano-special",
    "outputId": "1d071e72-5c3f-40bf-b572-e7d074bb29cd"
   },
   "outputs": [],
   "source": [
    "stacked_barplot(___________)  # Complete the code to plot stacked_barplot for profile_completed and status"
   ]
  },
  {
   "cell_type": "markdown",
   "id": "innocent-editor",
   "metadata": {
    "id": "innocent-editor"
   },
   "source": [
    "**After a lead shares their information by creating a profile, there may be interactions between the lead and the company to proceed with the process of enrollment. Let's see how the last activity impacts lead conversion status**"
   ]
  },
  {
   "cell_type": "code",
   "execution_count": null,
   "id": "suspended-memphis",
   "metadata": {
    "colab": {
     "base_uri": "https://localhost:8080/",
     "height": 685
    },
    "id": "suspended-memphis",
    "outputId": "7b83cf5c-d280-4591-9b4e-4e0eabe67be3"
   },
   "outputs": [],
   "source": [
    "stacked_barplot(___________) # Complete the code to plot stacked_barplot for last_activity and status"
   ]
  },
  {
   "cell_type": "markdown",
   "id": "accompanied-authorization",
   "metadata": {
    "id": "accompanied-authorization"
   },
   "source": [
    "**Let's see how advertisement and referrals impact the lead status**"
   ]
  },
  {
   "cell_type": "code",
   "execution_count": null,
   "id": "regulated-start",
   "metadata": {
    "colab": {
     "base_uri": "https://localhost:8080/",
     "height": 577
    },
    "id": "regulated-start",
    "outputId": "a7dc5e69-40e0-4825-81b0-23b1bb417a9d"
   },
   "outputs": [],
   "source": [
    "stacked_barplot(___________) # Complete the code to plot stacked_barplot for print_media_type1 and status"
   ]
  },
  {
   "cell_type": "code",
   "execution_count": null,
   "id": "grateful-turkey",
   "metadata": {
    "colab": {
     "base_uri": "https://localhost:8080/",
     "height": 577
    },
    "id": "grateful-turkey",
    "outputId": "f9ac67f4-dbee-4c78-82eb-9122f28e520e"
   },
   "outputs": [],
   "source": [
    "stacked_barplot(___________) # Complete the code to plot stacked_barplot for print_media_type2 and status"
   ]
  },
  {
   "cell_type": "code",
   "execution_count": null,
   "id": "sorted-colony",
   "metadata": {
    "colab": {
     "base_uri": "https://localhost:8080/",
     "height": 577
    },
    "id": "sorted-colony",
    "outputId": "03ae7d59-b055-4efb-fcb7-b7c5de166b34"
   },
   "outputs": [],
   "source": [
    "stacked_barplot(___________) # Complete the code to plot stacked_barplot for digital_media and status"
   ]
  },
  {
   "cell_type": "code",
   "execution_count": null,
   "id": "nonprofit-benefit",
   "metadata": {
    "colab": {
     "base_uri": "https://localhost:8080/",
     "height": 577
    },
    "id": "nonprofit-benefit",
    "outputId": "5d3bc333-77a8-46c3-e7d4-072ed9e7d2b2"
   },
   "outputs": [],
   "source": [
    "stacked_barplot(___________) # Complete the code to plot stacked_barplot for educational_channels and status"
   ]
  },
  {
   "cell_type": "code",
   "execution_count": null,
   "id": "historical-selling",
   "metadata": {
    "colab": {
     "base_uri": "https://localhost:8080/",
     "height": 577
    },
    "id": "historical-selling",
    "outputId": "3b6e94ae-7671-4ecd-9b6c-68df2afc6b32"
   },
   "outputs": [],
   "source": [
    "stacked_barplot(___________) # Complete the code to plot stacked_barplot for referral and status"
   ]
  },
  {
   "cell_type": "markdown",
   "id": "powerful-couple",
   "metadata": {
    "id": "powerful-couple"
   },
   "source": [
    "### Outlier Check\n",
    "\n",
    "- Let's check for outliers in the data."
   ]
  },
  {
   "cell_type": "code",
   "execution_count": null,
   "id": "imported-uganda",
   "metadata": {
    "colab": {
     "base_uri": "https://localhost:8080/",
     "height": 222
    },
    "id": "imported-uganda",
    "outputId": "169e7173-5001-44fc-bbf8-c8f6b9b58572"
   },
   "outputs": [],
   "source": [
    "# outlier detection using boxplot\n",
    "numeric_columns = data.select_dtypes(include=np.number).columns.tolist()\n",
    "# dropping release_year as it is a temporal variable\n",
    "numeric_columns.remove(\"status\")\n",
    "\n",
    "plt.figure(figsize=(15, 12))\n",
    "\n",
    "for i, variable in enumerate(numeric_columns):\n",
    "    plt.subplot(4, 4, i + 1)\n",
    "    plt.boxplot(data[variable], whis=1.5)\n",
    "    plt.tight_layout()\n",
    "    plt.title(variable)\n",
    "\n",
    "plt.show()"
   ]
  },
  {
   "cell_type": "markdown",
   "id": "c78ea9dd",
   "metadata": {
    "id": "c78ea9dd"
   },
   "source": [
    "**Observations:_________**"
   ]
  },
  {
   "cell_type": "markdown",
   "id": "pleased-chicken",
   "metadata": {
    "id": "pleased-chicken"
   },
   "source": [
    "### Data Preparation for modeling\n",
    "\n",
    "- We want to predict which lead is more likely to be converted.\n",
    "- Before we proceed to build a model, we'll have to encode categorical features.\n",
    "- We'll split the data into train and test to be able to evaluate the model that we build on the train data."
   ]
  },
  {
   "cell_type": "code",
   "execution_count": null,
   "id": "durable-allergy",
   "metadata": {
    "id": "durable-allergy"
   },
   "outputs": [],
   "source": [
    "X = data.drop([\"status\"], axis=1)\n",
    "Y = ___________ # Complete the code to define the dependent (target) variable\n",
    "\n",
    "X = pd.___________(X, drop_first=True) # Complete the code to get dummies for X\n",
    "\n",
    "# Splitting the data in 70:30 ratio for train to test data\n",
    "X_train, X_test, y_train, y_test = train_test_split(\n",
    "    X, Y, test_size=0.30, random_state=1\n",
    ")"
   ]
  },
  {
   "cell_type": "code",
   "execution_count": null,
   "id": "ecological-principal",
   "metadata": {
    "colab": {
     "base_uri": "https://localhost:8080/"
    },
    "id": "ecological-principal",
    "outputId": "b62c8f8f-0b69-49be-be58-1028f2b73bfe"
   },
   "outputs": [],
   "source": [
    "print(\"Shape of Training set : \", X_train.shape)\n",
    "print(\"Shape of test set : \", X_test.shape)\n",
    "print(\"Percentage of classes in training set:\")\n",
    "print(y_train.value_counts(normalize=True))\n",
    "print(\"Percentage of classes in test set:\")\n",
    "print(y_test.value_counts(normalize=True))"
   ]
  },
  {
   "cell_type": "markdown",
   "id": "43459748",
   "metadata": {
    "id": "43459748"
   },
   "source": [
    "## **Building Classification Models**"
   ]
  },
  {
   "cell_type": "markdown",
   "id": "cultural-engagement",
   "metadata": {
    "id": "cultural-engagement"
   },
   "source": [
    "### Model evaluation criterion\n",
    "\n",
    "### Model can make wrong predictions as:\n",
    "\n",
    "1. Predicting a lead will not be converted to a paid customer in reality, the lead would have converted to a paid customer.\n",
    "2. Predicting a lead will be converted to a paid customer in reality, the lead would not have converted to a paid customer. \n",
    "\n",
    "### Which case is more important? \n",
    "\n",
    "* If we predict that a lead will not get converted and the lead would have converted then the company will lose a potential customer. \n",
    "\n",
    "* If we predict that a lead will get converted and the lead doesn't get converted the company might lose resources by nurturing false-positive cases.\n",
    "\n",
    "Losing a potential customer is a greater loss.\n",
    "\n",
    "### How to reduce the losses?\n",
    "\n",
    "* Company would want `Recall` to be maximized, greater the Recall score higher are the chances of minimizing False Negatives. "
   ]
  },
  {
   "cell_type": "markdown",
   "id": "ruled-appointment",
   "metadata": {
    "id": "ruled-appointment"
   },
   "source": [
    "#### First, let's create functions to calculate different metrics and confusion matrix so that we don't have to use the same code repeatedly for each model.\n",
    "* The model_performance_classification_statsmodels function will be used to check the model performance of models. \n",
    "* The confusion_matrix_statsmodels function will be used to plot the confusion matrix."
   ]
  },
  {
   "cell_type": "code",
   "execution_count": null,
   "id": "prime-front",
   "metadata": {
    "id": "prime-front"
   },
   "outputs": [],
   "source": [
    "# Function to print the classification report and get confusion matrix in a proper format\n",
    "\n",
    "def metrics_score(actual, predicted):\n",
    "    print(classification_report(actual, predicted))\n",
    "    \n",
    "    cm = confusion_matrix(actual, predicted)\n",
    "    \n",
    "    plt.figure(figsize = (8, 5))\n",
    "    \n",
    "    sns.heatmap(cm, annot = True,  fmt = '.2f', xticklabels = ['Not Converted', 'Converted'], yticklabels = ['Not Converted', 'Converted'])\n",
    "    \n",
    "    plt.ylabel('Actual')\n",
    "    \n",
    "    plt.xlabel('Predicted')\n",
    "    \n",
    "    plt.show()"
   ]
  },
  {
   "cell_type": "markdown",
   "id": "separated-prague",
   "metadata": {
    "id": "separated-prague"
   },
   "source": [
    "## Decision Tree"
   ]
  },
  {
   "cell_type": "markdown",
   "id": "immune-malta",
   "metadata": {
    "id": "immune-malta"
   },
   "source": [
    "### Building Decision Tree Model"
   ]
  },
  {
   "cell_type": "code",
   "execution_count": null,
   "id": "recognized-nurse",
   "metadata": {
    "colab": {
     "base_uri": "https://localhost:8080/",
     "height": 75
    },
    "id": "recognized-nurse",
    "outputId": "c4792cf4-0831-43a8-f924-f5b403fc17a6"
   },
   "outputs": [],
   "source": [
    "# Fitting the decision tree classifier on the training data\n",
    "d_tree =  ___________\n",
    "\n",
    "d_tree.___________"
   ]
  },
  {
   "cell_type": "markdown",
   "id": "identified-upper",
   "metadata": {
    "id": "identified-upper"
   },
   "source": [
    "#### Checking model performance on training set"
   ]
  },
  {
   "cell_type": "code",
   "execution_count": null,
   "id": "7583ecb8",
   "metadata": {
    "colab": {
     "base_uri": "https://localhost:8080/",
     "height": 621
    },
    "id": "7583ecb8",
    "outputId": "1c279178-4e74-4611-b8cb-2ee1371eca35"
   },
   "outputs": [],
   "source": [
    "# Checking performance on the training data\n",
    "y_pred_train1 = ___________\n",
    "\n",
    "metrics_score(y_train, y_pred_train1)"
   ]
  },
  {
   "cell_type": "markdown",
   "id": "7cBl_6npl1Vu",
   "metadata": {
    "id": "7cBl_6npl1Vu"
   },
   "source": [
    "**Observations:_________**"
   ]
  },
  {
   "cell_type": "markdown",
   "id": "AhFWT3akl1Vv",
   "metadata": {
    "id": "AhFWT3akl1Vv"
   },
   "source": [
    "\n",
    "**Let's check the performance on test data to see if the model is overfitting.**"
   ]
  },
  {
   "cell_type": "code",
   "execution_count": null,
   "id": "qoL748T1l1Vv",
   "metadata": {
    "colab": {
     "base_uri": "https://localhost:8080/",
     "height": 621
    },
    "id": "qoL748T1l1Vv",
    "outputId": "dce32904-35b2-4c6d-8646-7e4abd57338b",
    "scrolled": false
   },
   "outputs": [],
   "source": [
    "# Checking performance on the testing data\n",
    "y_pred_test1 = ___________\n",
    "\n",
    "___________"
   ]
  },
  {
   "cell_type": "markdown",
   "id": "l7ge1NECl1Vv",
   "metadata": {
    "id": "l7ge1NECl1Vv"
   },
   "source": [
    "**Observations:_________**"
   ]
  },
  {
   "cell_type": "markdown",
   "id": "4wbVV72Al1Vw",
   "metadata": {
    "id": "4wbVV72Al1Vw"
   },
   "source": [
    "**Let's try hyperparameter tuning using GridSearchCV to find the optimal max_depth** to reduce overfitting of the model. We can tune some other hyperparameters as well."
   ]
  },
  {
   "cell_type": "markdown",
   "id": "q6VYYJBcl1Vw",
   "metadata": {
    "id": "q6VYYJBcl1Vw"
   },
   "source": [
    "### **Decision Tree - Hyperparameter Tuning**\n",
    "\n",
    "We will use the class_weight hyperparameter with the value equal to {0: 0.3, 1: 0.7} which is approximately the opposite of the imbalance in the original data. \n",
    "\n",
    "**This would tell the model that 1 is the important class here.**"
   ]
  },
  {
   "cell_type": "code",
   "execution_count": null,
   "id": "QUOBxb0vl1Vw",
   "metadata": {
    "colab": {
     "base_uri": "https://localhost:8080/",
     "height": 92
    },
    "id": "QUOBxb0vl1Vw",
    "outputId": "b84fea80-2778-42f4-fcab-8d32a9265f22"
   },
   "outputs": [],
   "source": [
    "# Choose the type of classifier \n",
    "d_tree_tuned = DecisionTreeClassifier(random_state = 7, class_weight = {0: 0.3, 1: 0.7})\n",
    "\n",
    "# Grid of parameters to choose from\n",
    "parameters = {'max_depth': np.arange(2, 10), \n",
    "              'criterion': ['gini', 'entropy'],\n",
    "              'min_samples_leaf': [5, 10, 20, 25]\n",
    "             }\n",
    "\n",
    "# Type of scoring used to compare parameter combinations - recall score for class 1\n",
    "scorer = metrics.make_scorer(recall_score, pos_label = 1)\n",
    "\n",
    "# Run the grid search\n",
    "grid_obj = GridSearchCV(d_tree_tuned, parameters, scoring = scorer, cv = 5)\n",
    "\n",
    "grid_obj = grid_obj.fit(X_train, y_train)\n",
    "\n",
    "# Set the classifier to the best combination of parameters\n",
    "d_tree_tuned = grid_obj.best_estimator_\n",
    "\n",
    "# Fit the best algorithm to the data\n",
    "d_tree_tuned.fit(X_train, y_train)"
   ]
  },
  {
   "cell_type": "markdown",
   "id": "SCJ4-_lNl1Vx",
   "metadata": {
    "id": "SCJ4-_lNl1Vx"
   },
   "source": [
    "We have tuned the model and fit the tuned model on the training data. Now, **let's check the model performance on the training and testing data.**"
   ]
  },
  {
   "cell_type": "markdown",
   "id": "neither-omaha",
   "metadata": {
    "id": "neither-omaha"
   },
   "source": [
    "#### Checking model performance on train and test set"
   ]
  },
  {
   "cell_type": "code",
   "execution_count": null,
   "id": "l5-O5Fcvl1V4",
   "metadata": {
    "colab": {
     "base_uri": "https://localhost:8080/",
     "height": 621
    },
    "id": "l5-O5Fcvl1V4",
    "outputId": "55673754-79e1-4f3a-8563-c080c40e4823"
   },
   "outputs": [],
   "source": [
    "# Checking performance on the training data\n",
    "y_pred_train2 = ___________\n",
    "\n",
    "___________"
   ]
  },
  {
   "cell_type": "markdown",
   "id": "zlJcsocUl1V5",
   "metadata": {
    "id": "zlJcsocUl1V5"
   },
   "source": [
    "**Observations:__________**"
   ]
  },
  {
   "cell_type": "markdown",
   "id": "QBEurd8rl1V5",
   "metadata": {
    "id": "QBEurd8rl1V5"
   },
   "source": [
    "**Let's check the model performance on the testing data**"
   ]
  },
  {
   "cell_type": "code",
   "execution_count": null,
   "id": "hV7PLZKZl1V8",
   "metadata": {
    "colab": {
     "base_uri": "https://localhost:8080/",
     "height": 621
    },
    "id": "hV7PLZKZl1V8",
    "outputId": "d18b8878-401f-4862-b572-25fd98816f60"
   },
   "outputs": [],
   "source": [
    "# Checking performance on the testing data\n",
    "y_pred_test2 = ___________\n",
    "\n",
    "___________"
   ]
  },
  {
   "cell_type": "markdown",
   "id": "uPqbtr-rl1V9",
   "metadata": {
    "id": "uPqbtr-rl1V9"
   },
   "source": [
    "**Observations:__________**"
   ]
  },
  {
   "cell_type": "markdown",
   "id": "fa653aac",
   "metadata": {
    "id": "fa653aac"
   },
   "source": [
    "### Visualizing the Decision Tree"
   ]
  },
  {
   "cell_type": "markdown",
   "id": "U51Ei4r9l1V9",
   "metadata": {
    "id": "U51Ei4r9l1V9"
   },
   "source": [
    "**Let's visualize the tuned decision tree** and observe the decision rules:"
   ]
  },
  {
   "cell_type": "code",
   "execution_count": null,
   "id": "a26a96a3",
   "metadata": {
    "colab": {
     "base_uri": "https://localhost:8080/",
     "height": 954
    },
    "id": "a26a96a3",
    "outputId": "9fabb49d-534b-4bc7-db65-5be21a6dbb5b"
   },
   "outputs": [],
   "source": [
    "features = list(X.columns)\n",
    "\n",
    "plt.figure(figsize = (20, 20))\n",
    "\n",
    "tree.plot_tree(d_tree_tuned, feature_names = features, filled = True, fontsize = 9, node_ids = True, class_names = True)\n",
    "\n",
    "plt.show()"
   ]
  },
  {
   "cell_type": "markdown",
   "id": "6h5oT4yvl1WA",
   "metadata": {
    "id": "6h5oT4yvl1WA"
   },
   "source": [
    "**Note:** Blue leaves represent the converted leads, i.e., **y[1]**, while the orange leaves represent the not converted leads, i.e., **y[0]**. Also, the more the number of observations in a leaf, the darker its color gets.\n",
    "\n",
    "**Observations:_________**"
   ]
  },
  {
   "cell_type": "markdown",
   "id": "0AudAn9wl1WB",
   "metadata": {
    "id": "0AudAn9wl1WB"
   },
   "source": [
    "**Let's look at the feature importance** of the tuned decision tree model"
   ]
  },
  {
   "cell_type": "code",
   "execution_count": null,
   "id": "QGwyZ_zal1WB",
   "metadata": {
    "colab": {
     "base_uri": "https://localhost:8080/"
    },
    "id": "QGwyZ_zal1WB",
    "outputId": "1b6c320d-9059-4e7c-badd-c94f99b78bc0"
   },
   "outputs": [],
   "source": [
    "# Importance of features in the tree building\n",
    "\n",
    "print (pd.DataFrame(d_tree_tuned.feature_importances_, columns = [\"Imp\"], index = X_train.columns).sort_values(by = 'Imp', ascending = False))"
   ]
  },
  {
   "cell_type": "code",
   "execution_count": null,
   "id": "1W9Ag_S8l1WD",
   "metadata": {
    "colab": {
     "base_uri": "https://localhost:8080/",
     "height": 798
    },
    "id": "1W9Ag_S8l1WD",
    "outputId": "90ba407e-95d7-4112-9e04-9f88922418fa"
   },
   "outputs": [],
   "source": [
    "# Plotting the feature importance\n",
    "importances = d_tree_tuned.feature_importances_\n",
    "\n",
    "indices = np.argsort(importances)\n",
    "\n",
    "plt.figure(figsize = (10, 10))\n",
    "\n",
    "plt.title('Feature Importances')\n",
    "\n",
    "plt.barh(range(len(indices)), importances[indices], color = 'violet', align = 'center')\n",
    "\n",
    "plt.yticks(range(len(indices)), [features[i] for i in indices])\n",
    "\n",
    "plt.xlabel('Relative Importance')\n",
    "\n",
    "plt.show()"
   ]
  },
  {
   "cell_type": "markdown",
   "id": "Djz314O9l1WD",
   "metadata": {
    "id": "Djz314O9l1WD"
   },
   "source": [
    "**Observations:**\n",
    "- **Time spent on the website and first_interaction_website are the most important features** **followed by profile_completed, age, and last_activity**.\n",
    "- **The rest of the variables have no impact in this model, while deciding whether a lead will be converted or not**.\n",
    "\n",
    "Now, let's build another model - **a random forest classifier.**"
   ]
  },
  {
   "cell_type": "markdown",
   "id": "gds-sUrMl1WD",
   "metadata": {
    "id": "gds-sUrMl1WD"
   },
   "source": [
    "### **Random Forest Classifier**"
   ]
  },
  {
   "cell_type": "markdown",
   "id": "292eb6bb",
   "metadata": {
    "id": "292eb6bb"
   },
   "source": [
    "### Building Random Forest Model"
   ]
  },
  {
   "cell_type": "code",
   "execution_count": null,
   "id": "030394ef",
   "metadata": {
    "colab": {
     "base_uri": "https://localhost:8080/",
     "height": 75
    },
    "id": "030394ef",
    "outputId": "a8fe57d0-ff46-4f85-a0c8-b284e768bc7d"
   },
   "outputs": [],
   "source": [
    "# Fitting the random forest tree classifier on the training data\n",
    "rf_estimator = ___________\n",
    "\n",
    "rf_estimator.___________"
   ]
  },
  {
   "cell_type": "markdown",
   "id": "akTwbuZWl1WF",
   "metadata": {
    "id": "akTwbuZWl1WF"
   },
   "source": [
    "**Let's check the performance of the model on the training data**"
   ]
  },
  {
   "cell_type": "code",
   "execution_count": null,
   "id": "1201f323",
   "metadata": {
    "colab": {
     "base_uri": "https://localhost:8080/",
     "height": 621
    },
    "id": "1201f323",
    "outputId": "6ccea88a-becb-4b35-d0cb-4ff42a59f15b"
   },
   "outputs": [],
   "source": [
    "# Checking performance on the training data\n",
    "y_pred_train3 = ___________\n",
    "\n",
    "___________"
   ]
  },
  {
   "cell_type": "markdown",
   "id": "Fwoe0aSMl1WF",
   "metadata": {
    "id": "Fwoe0aSMl1WF"
   },
   "source": [
    "**Observations:________**"
   ]
  },
  {
   "cell_type": "markdown",
   "id": "sOfSZihal1WG",
   "metadata": {
    "id": "sOfSZihal1WG"
   },
   "source": [
    "**Let's check the performance on the testing data**"
   ]
  },
  {
   "cell_type": "code",
   "execution_count": null,
   "id": "Gx_ev8Sdl1WG",
   "metadata": {
    "colab": {
     "base_uri": "https://localhost:8080/",
     "height": 621
    },
    "id": "Gx_ev8Sdl1WG",
    "outputId": "178a9e45-a287-4f89-8432-fb5dd30195f4"
   },
   "outputs": [],
   "source": [
    "# Checking performance on the testing data\n",
    "y_pred_test3 = ___________\n",
    "\n",
    "___________"
   ]
  },
  {
   "cell_type": "markdown",
   "id": "nW54PCfRl1WH",
   "metadata": {
    "id": "nW54PCfRl1WH"
   },
   "source": [
    "**Observations:____**"
   ]
  },
  {
   "cell_type": "markdown",
   "id": "f2QbULkSl1WH",
   "metadata": {
    "id": "f2QbULkSl1WH"
   },
   "source": [
    "**Let's see if we can get a better model by tuning the random forest classifier**"
   ]
  },
  {
   "cell_type": "markdown",
   "id": "WtpYbBsOl1WI",
   "metadata": {
    "id": "WtpYbBsOl1WI"
   },
   "source": [
    "### **Random Forest Classifier - Hyperparameter Tuning**"
   ]
  },
  {
   "cell_type": "markdown",
   "id": "JHjzv_JHl1WJ",
   "metadata": {
    "id": "JHjzv_JHl1WJ"
   },
   "source": [
    "Let's try **tuning some of the important hyperparameters of the Random Forest Classifier**. \n",
    "\n",
    "We will **not** tune the `criterion` hyperparameter as we know from hyperparameter tuning for decision trees that `entropy` is a better splitting criterion for this data."
   ]
  },
  {
   "cell_type": "code",
   "execution_count": null,
   "id": "x7CYCKC3l1WL",
   "metadata": {
    "id": "x7CYCKC3l1WL"
   },
   "outputs": [],
   "source": [
    "# Choose the type of classifier \n",
    "rf_estimator_tuned = RandomForestClassifier(criterion = \"entropy\", random_state = 7)\n",
    "\n",
    "# Grid of parameters to choose from\n",
    "parameters = {\"n_estimators\": [110, 120],\n",
    "    \"max_depth\": [6, 7],\n",
    "    \"min_samples_leaf\": [20, 25],\n",
    "    \"max_features\": [0.8, 0.9],\n",
    "    \"max_samples\": [0.9, 1],\n",
    "    \"class_weight\": [\"balanced\",{0: 0.3, 1: 0.7}]\n",
    "             }\n",
    "\n",
    "# Type of scoring used to compare parameter combinations - recall score for class 1\n",
    "scorer = metrics.make_scorer(recall_score, pos_label = 1)\n",
    "\n",
    "# Run the grid search on the training data using scorer=scorer and cv=5\n",
    "grid_obj = __________________\n",
    "\n",
    "grid_obj = __________________\n",
    "\n",
    "# Save the best estimator to variable rf_estimator_tuned\n",
    "rf_estimator_tuned = ________________"
   ]
  },
  {
   "cell_type": "code",
   "execution_count": null,
   "id": "eh2vUQ9JRd8H",
   "metadata": {
    "colab": {
     "base_uri": "https://localhost:8080/",
     "height": 109
    },
    "id": "eh2vUQ9JRd8H",
    "outputId": "f411d799-6e68-487a-d0f6-635646c244ed"
   },
   "outputs": [],
   "source": [
    "# Fitting the best algorithm to the training data\n",
    "rf_estimator_tuned.________________"
   ]
  },
  {
   "cell_type": "code",
   "execution_count": null,
   "id": "76ce621e",
   "metadata": {},
   "outputs": [],
   "source": [
    "# Checking performance on the training data\n",
    "y_pred_train4 = ______________\n",
    "\n",
    "_________________"
   ]
  },
  {
   "cell_type": "markdown",
   "id": "7D2Vcgfml1WT",
   "metadata": {
    "id": "7D2Vcgfml1WT"
   },
   "source": [
    "**Let's check the model performance on the test data**"
   ]
  },
  {
   "cell_type": "code",
   "execution_count": null,
   "id": "29bPvZVyl1WT",
   "metadata": {
    "colab": {
     "base_uri": "https://localhost:8080/",
     "height": 621
    },
    "id": "29bPvZVyl1WT",
    "outputId": "b3363596-92f6-4944-feb1-5960a4db5504"
   },
   "outputs": [],
   "source": [
    "# Checking performance on the test data\n",
    "y_pred_train4 = ________________\n",
    "\n",
    "________________"
   ]
  },
  {
   "cell_type": "markdown",
   "id": "JvKFHbrjl1WU",
   "metadata": {
    "id": "JvKFHbrjl1WU"
   },
   "source": [
    "**Observations:___________**"
   ]
  },
  {
   "cell_type": "markdown",
   "id": "CgfMe8FEl1WV",
   "metadata": {
    "id": "CgfMe8FEl1WV"
   },
   "source": [
    "**One of the drawbacks of ensemble models is that we lose the ability to obtain an interpretation of the model. We cannot observe the decision rules for random forests the way we did for decision trees. So, let's just check the feature importance of the model.**"
   ]
  },
  {
   "cell_type": "code",
   "execution_count": null,
   "id": "HDEAfI6rl1WV",
   "metadata": {
    "colab": {
     "base_uri": "https://localhost:8080/",
     "height": 818
    },
    "id": "HDEAfI6rl1WV",
    "outputId": "4679802b-2238-4611-8199-776a9d5077f4"
   },
   "outputs": [],
   "source": [
    "importances = rf_estimator_tuned.feature_importances_\n",
    "\n",
    "indices = np.argsort(importances)\n",
    "\n",
    "feature_names = list(X.columns)\n",
    "\n",
    "plt.figure(figsize = (12, 12))\n",
    "\n",
    "plt.title('Feature Importances')\n",
    "\n",
    "plt.barh(range(len(indices)), importances[indices], color = 'violet', align = 'center')\n",
    "\n",
    "plt.yticks(range(len(indices)), [feature_names[i] for i in indices])\n",
    "\n",
    "plt.xlabel('Relative Importance')\n",
    "\n",
    "plt.show()"
   ]
  },
  {
   "cell_type": "markdown",
   "id": "xHWIIxSSl1WW",
   "metadata": {
    "id": "xHWIIxSSl1WW"
   },
   "source": [
    "**Observations:**\n",
    "- Similar to the decision tree model, **time spent on website, first_interaction_website, profile_completed, and age are the top four features** that help distinguish between not converted and converted leads.\n",
    "- Unlike the decision tree, **the random forest gives some importance to other variables like occupation, page_views_per_visit, as well.** This implies that the random forest is giving importance to more factors in comparison to the decision tree."
   ]
  },
  {
   "cell_type": "markdown",
   "id": "8SlUg3wUl1WW",
   "metadata": {
    "id": "8SlUg3wUl1WW"
   },
   "source": [
    "## **Conclusion and Recommendations**"
   ]
  },
  {
   "cell_type": "markdown",
   "id": "oskeSIH0l1WY",
   "metadata": {
    "id": "oskeSIH0l1WY"
   },
   "source": [
    "### **Conclusions:________**"
   ]
  },
  {
   "cell_type": "markdown",
   "id": "Kak6mdNil1WY",
   "metadata": {
    "id": "Kak6mdNil1WY"
   },
   "source": [
    "### **Business Recommendations:_____**"
   ]
  }
 ],
 "metadata": {
  "colab": {
   "provenance": []
  },
  "kernelspec": {
   "display_name": "Python 3 (ipykernel)",
   "language": "python",
   "name": "python3"
  },
  "language_info": {
   "codemirror_mode": {
    "name": "ipython",
    "version": 3
   },
   "file_extension": ".py",
   "mimetype": "text/x-python",
   "name": "python",
   "nbconvert_exporter": "python",
   "pygments_lexer": "ipython3",
   "version": "3.9.13"
  }
 },
 "nbformat": 4,
 "nbformat_minor": 5
}
